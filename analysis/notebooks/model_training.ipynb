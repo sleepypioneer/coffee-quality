{
 "cells": [
  {
   "cell_type": "markdown",
   "id": "4d2713fa",
   "metadata": {},
   "source": [
    "# Coffee Data: model training ☕☕☕"
   ]
  },
  {
   "cell_type": "code",
   "execution_count": 22,
   "id": "e97e7b8d",
   "metadata": {},
   "outputs": [],
   "source": [
    "import pandas as pd\n",
    "import numpy as np\n",
    "\n",
    "import matplotlib.pyplot as plt\n",
    "\n",
    "from sklearn.ensemble import RandomForestRegressor\n",
    "from sklearn.feature_extraction import DictVectorizer\n",
    "from sklearn.metrics import roc_auc_score, mean_squared_error\n",
    "from sklearn.model_selection import train_test_split\n",
    "from sklearn.tree import DecisionTreeRegressor, export_text\n",
    "\n",
    "%matplotlib inline"
   ]
  },
  {
   "cell_type": "code",
   "execution_count": 8,
   "id": "51a10221",
   "metadata": {},
   "outputs": [],
   "source": [
    "df = pd.read_csv(\"data/merged_data_cleaned.csv\",  index_col=0)"
   ]
  },
  {
   "cell_type": "code",
   "execution_count": 9,
   "id": "f05f6b25",
   "metadata": {},
   "outputs": [
    {
     "name": "stderr",
     "output_type": "stream",
     "text": [
      "/tmp/ipykernel_75/1618930308.py:1: FutureWarning: The default value of regex will change from True to False in a future version. In addition, single character regular expressions will *not* be treated as literal strings when regex=True.\n",
      "  df.columns = df.columns.str.lower().str.replace('.', '_')\n"
     ]
    }
   ],
   "source": [
    "df.columns = df.columns.str.lower().str.replace('.', '_')"
   ]
  },
  {
   "cell_type": "code",
   "execution_count": 10,
   "id": "1c3178bd",
   "metadata": {},
   "outputs": [],
   "source": [
    "df[\"altitude_low_meters\"].fillna(df[\"altitude_low_meters\"].mean(), inplace=True)\n",
    "df[\"altitude_high_meters\"].fillna(df[\"altitude_high_meters\"].mean(), inplace=True)\n",
    "df[\"altitude_mean_meters\"].fillna(df[\"altitude_mean_meters\"].mean(), inplace=True)\n",
    "\n",
    "\n",
    "df[\"lot_number\"].fillna(\"missing\", inplace=True)\n",
    "df[\"farm_name\"].fillna(\"missing\", inplace=True)\n",
    "df[\"mill\"].fillna(\"missing\", inplace=True)\n",
    "df[\"owner\"].fillna(\"missing\", inplace=True)\n",
    "df[\"company\"].fillna(\"missing\", inplace=True)\n",
    "df[\"producer\"].fillna(\"missing\", inplace=True)\n",
    "df[\"ico_number\"].fillna(\"missing\", inplace=True)\n",
    "\n",
    "df = df.dropna()"
   ]
  },
  {
   "cell_type": "code",
   "execution_count": 11,
   "id": "81a7521f",
   "metadata": {},
   "outputs": [
    {
     "data": {
      "text/plain": [
       "(536, 179, 179)"
      ]
     },
     "execution_count": 11,
     "metadata": {},
     "output_type": "execute_result"
    }
   ],
   "source": [
    "df_full_train, df_test = train_test_split(df, test_size=0.2, random_state=1)\n",
    "\n",
    "df_train, df_val  = train_test_split(df_full_train, test_size=0.25, random_state=1)\n",
    "\n",
    "len(df_train), len(df_val), len(df_test)"
   ]
  },
  {
   "cell_type": "code",
   "execution_count": 12,
   "id": "13f2e49e",
   "metadata": {},
   "outputs": [],
   "source": [
    "df_train = df_train.reset_index(drop=True)\n",
    "df_val = df_val.reset_index(drop=True)\n",
    "df_test = df_test.reset_index(drop=True)"
   ]
  },
  {
   "cell_type": "code",
   "execution_count": 15,
   "id": "8e76a702",
   "metadata": {},
   "outputs": [],
   "source": [
    "y_train = np.log1p(df_train[\"total_cup_points\"])\n",
    "y_val = np.log1p(df_val[\"total_cup_points\"])\n",
    "y_test = np.log1p(df_test[\"total_cup_points\"])"
   ]
  },
  {
   "cell_type": "code",
   "execution_count": 16,
   "id": "c88e7506",
   "metadata": {},
   "outputs": [],
   "source": [
    "del df_train[\"total_cup_points\"]\n",
    "del df_val[\"total_cup_points\"]\n",
    "del df_test[\"total_cup_points\"]"
   ]
  },
  {
   "cell_type": "code",
   "execution_count": 18,
   "id": "6859c287",
   "metadata": {},
   "outputs": [],
   "source": [
    "green_analysis = [\"moisture\",\n",
    "       \"category_one_defects\", \"quakers\", \"color\", \"category_two_defects\"]"
   ]
  },
  {
   "cell_type": "code",
   "execution_count": 17,
   "id": "46195794",
   "metadata": {},
   "outputs": [],
   "source": [
    "processing_features = [\"species\", \"owner\", \"country_of_origin\", \"farm_name\", \"lot_number\",\n",
    "       \"mill\", \"ico_number\", \"company\", \"altitude\", \"altitude_mean_meters\", \"region\", \"producer\",\n",
    "       \"number_of_bags\", \"bag_weight\", \"in_country_partner\",\n",
    "       \"harvest_year\", \"grading_date\", \"owner_1\", \"variety\",\n",
    "       \"processing_method\"]"
   ]
  },
  {
   "cell_type": "code",
   "execution_count": 19,
   "id": "596217b3",
   "metadata": {},
   "outputs": [],
   "source": [
    "features = green_analysis + processing_features"
   ]
  },
  {
   "cell_type": "markdown",
   "id": "2b54e549",
   "metadata": {},
   "source": [
    "### Model training"
   ]
  },
  {
   "cell_type": "code",
   "execution_count": 20,
   "id": "357cdf11",
   "metadata": {},
   "outputs": [],
   "source": [
    "train_dicts = df_train[features].fillna(0).to_dict(orient='records')"
   ]
  },
  {
   "cell_type": "code",
   "execution_count": 23,
   "id": "796485fd",
   "metadata": {},
   "outputs": [],
   "source": [
    "dv = DictVectorizer(sparse=False)\n",
    "X_train = dv.fit_transform(train_dicts)"
   ]
  },
  {
   "cell_type": "code",
   "execution_count": 24,
   "id": "c3022ddc",
   "metadata": {},
   "outputs": [
    {
     "data": {
      "text/plain": [
       "DecisionTreeRegressor(max_depth=1)"
      ]
     },
     "execution_count": 24,
     "metadata": {},
     "output_type": "execute_result"
    }
   ],
   "source": [
    "dt = DecisionTreeRegressor(max_depth=1)\n",
    "dt.fit(X_train, y_train)"
   ]
  },
  {
   "cell_type": "code",
   "execution_count": null,
   "id": "aedab7dd",
   "metadata": {},
   "outputs": [],
   "source": []
  },
  {
   "cell_type": "code",
   "execution_count": null,
   "id": "b867cf53",
   "metadata": {},
   "outputs": [],
   "source": []
  },
  {
   "cell_type": "code",
   "execution_count": 25,
   "id": "8b770b77",
   "metadata": {},
   "outputs": [
    {
     "data": {
      "text/plain": [
       "RandomForestRegressor(n_estimators=10, n_jobs=-1, random_state=1)"
      ]
     },
     "execution_count": 25,
     "metadata": {},
     "output_type": "execute_result"
    }
   ],
   "source": [
    "rf = RandomForestRegressor(\n",
    "    n_estimators=10,\n",
    "    random_state=1,\n",
    "    n_jobs=-1\n",
    ")\n",
    "rf.fit(X_train, y_train)"
   ]
  },
  {
   "cell_type": "code",
   "execution_count": 26,
   "id": "1ebcb9a7",
   "metadata": {},
   "outputs": [],
   "source": [
    "val_dicts = df_val.fillna(0).to_dict(orient='records')\n",
    "X_val= dv.transform(val_dicts)"
   ]
  },
  {
   "cell_type": "code",
   "execution_count": 27,
   "id": "8bafd716",
   "metadata": {},
   "outputs": [],
   "source": [
    "y_pred = rf.predict(X_val)"
   ]
  },
  {
   "cell_type": "code",
   "execution_count": 28,
   "id": "886928db",
   "metadata": {},
   "outputs": [
    {
     "data": {
      "text/plain": [
       "0.027051807848965062"
      ]
     },
     "execution_count": 28,
     "metadata": {},
     "output_type": "execute_result"
    }
   ],
   "source": [
    "mean_squared_error(y_val, y_pred, squared=False)"
   ]
  },
  {
   "cell_type": "code",
   "execution_count": 29,
   "id": "d80fe558",
   "metadata": {},
   "outputs": [
    {
     "name": "stdout",
     "output_type": "stream",
     "text": [
      "Collecting XGBoost\n",
      "  Downloading xgboost-1.5.0-py3-none-manylinux2014_x86_64.whl (173.5 MB)\n",
      "     |████████████████████████████████| 173.5 MB 36 kB/s              \n",
      "\u001b[?25hRequirement already satisfied: scipy in /opt/conda/lib/python3.9/site-packages (from XGBoost) (1.7.1)\n",
      "Requirement already satisfied: numpy in /opt/conda/lib/python3.9/site-packages (from XGBoost) (1.20.3)\n",
      "Installing collected packages: XGBoost\n",
      "Successfully installed XGBoost-1.5.0\n"
     ]
    }
   ],
   "source": [
    "!pip install XGBoost"
   ]
  },
  {
   "cell_type": "code",
   "execution_count": 30,
   "id": "2e311ecf",
   "metadata": {},
   "outputs": [],
   "source": [
    "import xgboost as xgb"
   ]
  },
  {
   "cell_type": "code",
   "execution_count": 31,
   "id": "e6b96132",
   "metadata": {},
   "outputs": [
    {
     "name": "stderr",
     "output_type": "stream",
     "text": [
      "/opt/conda/lib/python3.9/site-packages/sklearn/utils/deprecation.py:87: FutureWarning: Function get_feature_names is deprecated; get_feature_names is deprecated in 1.0 and will be removed in 1.2. Please use get_feature_names_out instead.\n",
      "  warnings.warn(msg, category=FutureWarning)\n"
     ]
    }
   ],
   "source": [
    "features = dv.get_feature_names()\n",
    "dtrain = xgb.DMatrix(X_train, label=y_train, feature_names=features)\n",
    "dval = xgb.DMatrix(X_val, label=y_val, feature_names=features)"
   ]
  },
  {
   "cell_type": "code",
   "execution_count": 32,
   "id": "62ebb45d",
   "metadata": {},
   "outputs": [],
   "source": [
    "xgb_params = {\n",
    "    'eta': 0.3, \n",
    "    'max_depth': 6,\n",
    "    'min_child_weight': 1,\n",
    "\n",
    "    'objective': 'reg:squarederror',\n",
    "    'nthread': 8,\n",
    "\n",
    "    'seed': 1,\n",
    "    'verbosity': 1,\n",
    "}"
   ]
  },
  {
   "cell_type": "code",
   "execution_count": 33,
   "id": "bd94445f",
   "metadata": {},
   "outputs": [],
   "source": [
    "model = xgb.train(xgb_params, dtrain, num_boost_round=100)"
   ]
  },
  {
   "cell_type": "code",
   "execution_count": 34,
   "id": "5ac0b319",
   "metadata": {},
   "outputs": [],
   "source": [
    "y_pred = model.predict(dval)"
   ]
  },
  {
   "cell_type": "code",
   "execution_count": 35,
   "id": "7af3f352",
   "metadata": {},
   "outputs": [
    {
     "data": {
      "text/plain": [
       "0.026126506046486385"
      ]
     },
     "execution_count": 35,
     "metadata": {},
     "output_type": "execute_result"
    }
   ],
   "source": [
    "rmse = mean_squared_error(y_val, y_pred, squared=False)\n",
    "rmse"
   ]
  },
  {
   "cell_type": "code",
   "execution_count": 36,
   "id": "73cd8284",
   "metadata": {},
   "outputs": [],
   "source": [
    "import pickle"
   ]
  },
  {
   "cell_type": "code",
   "execution_count": 38,
   "id": "f8a80618",
   "metadata": {},
   "outputs": [],
   "source": [
    "output_file = f'model_v1.bin'"
   ]
  },
  {
   "cell_type": "code",
   "execution_count": 39,
   "id": "a2049579",
   "metadata": {},
   "outputs": [],
   "source": [
    "with open(output_file, 'wb') as f_out:\n",
    "    pickle.dump((dv, model), f_out) "
   ]
  },
  {
   "cell_type": "code",
   "execution_count": null,
   "id": "e76ccaed",
   "metadata": {},
   "outputs": [],
   "source": []
  }
 ],
 "metadata": {
  "kernelspec": {
   "display_name": "Python 3 (ipykernel)",
   "language": "python",
   "name": "python3"
  },
  "language_info": {
   "codemirror_mode": {
    "name": "ipython",
    "version": 3
   },
   "file_extension": ".py",
   "mimetype": "text/x-python",
   "name": "python",
   "nbconvert_exporter": "python",
   "pygments_lexer": "ipython3",
   "version": "3.9.7"
  }
 },
 "nbformat": 4,
 "nbformat_minor": 5
}

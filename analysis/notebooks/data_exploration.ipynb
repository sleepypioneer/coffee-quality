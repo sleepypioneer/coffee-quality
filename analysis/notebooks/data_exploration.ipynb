{
 "cells": [
  {
   "cell_type": "markdown",
   "id": "e78d5b6b",
   "metadata": {},
   "source": [
    "# Coffee Data: exploration ☕☕☕\n",
    "\n",
    "The data is gathered from Coffee Quality Institute (CQI) in January, 2018. Scraping was performed by [James LeDoux](https://github.com/jldbc) and more details can be found [here](https://github.com/jldbc/coffee-quality-database).\n",
    "\n",
    "## Summary\n",
    "- the dataset is rather small (this could potentially be changed by scraping a more recent version of the data)\n",
    "- there are quite a few missing values, some I chose to replace with an average or label as missing however I droped quite a few rows which contained missing information such as region or variety\n",
    "- the dataset after processing has 894 rows\n",
    "- the target value `total_cup_score` has 5% of the values over 85 (this will likely be our classification threshold)\n",
    "- most samples are Arabica, a lot of Robusta samples had missing values\n",
    "- The features that seem to correlate the most with the total cup score are the number of quakers (unripe coffee)"
   ]
  },
  {
   "cell_type": "code",
   "execution_count": 1,
   "id": "f1f7ec49",
   "metadata": {},
   "outputs": [],
   "source": [
    "import pandas as pd\n",
    "import numpy as np\n",
    "import seaborn as sns\n",
    "\n",
    "import matplotlib.pyplot as plt\n",
    "\n",
    "from sklearn.metrics import mutual_info_score\n",
    "\n",
    "from data_prep import handle_na_values, split_data, convert_bag_weight\n",
    "\n",
    "%matplotlib inline\n",
    "%load_ext autoreload\n",
    "%autoreload 2"
   ]
  },
  {
   "cell_type": "code",
   "execution_count": 2,
   "id": "4785e23e",
   "metadata": {},
   "outputs": [],
   "source": [
    "df = pd.read_csv(\"../data/merged_data_cleaned.csv\",  index_col=0)"
   ]
  },
  {
   "cell_type": "code",
   "execution_count": 3,
   "id": "3fafb909",
   "metadata": {},
   "outputs": [
    {
     "data": {
      "text/plain": [
       "1339"
      ]
     },
     "execution_count": 3,
     "metadata": {},
     "output_type": "execute_result"
    }
   ],
   "source": [
    "len(df)"
   ]
  },
  {
   "cell_type": "code",
   "execution_count": 4,
   "id": "92f3ccd3",
   "metadata": {},
   "outputs": [
    {
     "name": "stderr",
     "output_type": "stream",
     "text": [
      "/tmp/ipykernel_128/4262472041.py:1: FutureWarning: The default value of regex will change from True to False in a future version. In addition, single character regular expressions will *not* be treated as literal strings when regex=True.\n",
      "  df.columns = df.columns.str.lower().str.replace(\".\", \"_\")\n"
     ]
    }
   ],
   "source": [
    "df.columns = df.columns.str.lower().str.replace(\".\", \"_\")"
   ]
  },
  {
   "cell_type": "code",
   "execution_count": 5,
   "id": "c8e19550",
   "metadata": {},
   "outputs": [
    {
     "data": {
      "text/html": [
       "<div>\n",
       "<style scoped>\n",
       "    .dataframe tbody tr th:only-of-type {\n",
       "        vertical-align: middle;\n",
       "    }\n",
       "\n",
       "    .dataframe tbody tr th {\n",
       "        vertical-align: top;\n",
       "    }\n",
       "\n",
       "    .dataframe thead th {\n",
       "        text-align: right;\n",
       "    }\n",
       "</style>\n",
       "<table border=\"1\" class=\"dataframe\">\n",
       "  <thead>\n",
       "    <tr style=\"text-align: right;\">\n",
       "      <th></th>\n",
       "      <th>species</th>\n",
       "      <th>owner</th>\n",
       "      <th>country_of_origin</th>\n",
       "      <th>farm_name</th>\n",
       "      <th>lot_number</th>\n",
       "      <th>mill</th>\n",
       "      <th>ico_number</th>\n",
       "      <th>company</th>\n",
       "      <th>altitude</th>\n",
       "      <th>region</th>\n",
       "      <th>...</th>\n",
       "      <th>color</th>\n",
       "      <th>category_two_defects</th>\n",
       "      <th>expiration</th>\n",
       "      <th>certification_body</th>\n",
       "      <th>certification_address</th>\n",
       "      <th>certification_contact</th>\n",
       "      <th>unit_of_measurement</th>\n",
       "      <th>altitude_low_meters</th>\n",
       "      <th>altitude_high_meters</th>\n",
       "      <th>altitude_mean_meters</th>\n",
       "    </tr>\n",
       "  </thead>\n",
       "  <tbody>\n",
       "    <tr>\n",
       "      <th>0</th>\n",
       "      <td>Arabica</td>\n",
       "      <td>metad plc</td>\n",
       "      <td>Ethiopia</td>\n",
       "      <td>metad plc</td>\n",
       "      <td>NaN</td>\n",
       "      <td>metad plc</td>\n",
       "      <td>2014/2015</td>\n",
       "      <td>metad agricultural developmet plc</td>\n",
       "      <td>1950-2200</td>\n",
       "      <td>guji-hambela</td>\n",
       "      <td>...</td>\n",
       "      <td>Green</td>\n",
       "      <td>0</td>\n",
       "      <td>April 3rd, 2016</td>\n",
       "      <td>METAD Agricultural Development plc</td>\n",
       "      <td>309fcf77415a3661ae83e027f7e5f05dad786e44</td>\n",
       "      <td>19fef5a731de2db57d16da10287413f5f99bc2dd</td>\n",
       "      <td>m</td>\n",
       "      <td>1950.0</td>\n",
       "      <td>2200.0</td>\n",
       "      <td>2075.0</td>\n",
       "    </tr>\n",
       "    <tr>\n",
       "      <th>1</th>\n",
       "      <td>Arabica</td>\n",
       "      <td>metad plc</td>\n",
       "      <td>Ethiopia</td>\n",
       "      <td>metad plc</td>\n",
       "      <td>NaN</td>\n",
       "      <td>metad plc</td>\n",
       "      <td>2014/2015</td>\n",
       "      <td>metad agricultural developmet plc</td>\n",
       "      <td>1950-2200</td>\n",
       "      <td>guji-hambela</td>\n",
       "      <td>...</td>\n",
       "      <td>Green</td>\n",
       "      <td>1</td>\n",
       "      <td>April 3rd, 2016</td>\n",
       "      <td>METAD Agricultural Development plc</td>\n",
       "      <td>309fcf77415a3661ae83e027f7e5f05dad786e44</td>\n",
       "      <td>19fef5a731de2db57d16da10287413f5f99bc2dd</td>\n",
       "      <td>m</td>\n",
       "      <td>1950.0</td>\n",
       "      <td>2200.0</td>\n",
       "      <td>2075.0</td>\n",
       "    </tr>\n",
       "    <tr>\n",
       "      <th>2</th>\n",
       "      <td>Arabica</td>\n",
       "      <td>grounds for health admin</td>\n",
       "      <td>Guatemala</td>\n",
       "      <td>san marcos barrancas \"san cristobal cuch</td>\n",
       "      <td>NaN</td>\n",
       "      <td>NaN</td>\n",
       "      <td>NaN</td>\n",
       "      <td>NaN</td>\n",
       "      <td>1600 - 1800 m</td>\n",
       "      <td>NaN</td>\n",
       "      <td>...</td>\n",
       "      <td>NaN</td>\n",
       "      <td>0</td>\n",
       "      <td>May 31st, 2011</td>\n",
       "      <td>Specialty Coffee Association</td>\n",
       "      <td>36d0d00a3724338ba7937c52a378d085f2172daa</td>\n",
       "      <td>0878a7d4b9d35ddbf0fe2ce69a2062cceb45a660</td>\n",
       "      <td>m</td>\n",
       "      <td>1600.0</td>\n",
       "      <td>1800.0</td>\n",
       "      <td>1700.0</td>\n",
       "    </tr>\n",
       "    <tr>\n",
       "      <th>3</th>\n",
       "      <td>Arabica</td>\n",
       "      <td>yidnekachew dabessa</td>\n",
       "      <td>Ethiopia</td>\n",
       "      <td>yidnekachew dabessa coffee plantation</td>\n",
       "      <td>NaN</td>\n",
       "      <td>wolensu</td>\n",
       "      <td>NaN</td>\n",
       "      <td>yidnekachew debessa coffee plantation</td>\n",
       "      <td>1800-2200</td>\n",
       "      <td>oromia</td>\n",
       "      <td>...</td>\n",
       "      <td>Green</td>\n",
       "      <td>2</td>\n",
       "      <td>March 25th, 2016</td>\n",
       "      <td>METAD Agricultural Development plc</td>\n",
       "      <td>309fcf77415a3661ae83e027f7e5f05dad786e44</td>\n",
       "      <td>19fef5a731de2db57d16da10287413f5f99bc2dd</td>\n",
       "      <td>m</td>\n",
       "      <td>1800.0</td>\n",
       "      <td>2200.0</td>\n",
       "      <td>2000.0</td>\n",
       "    </tr>\n",
       "    <tr>\n",
       "      <th>4</th>\n",
       "      <td>Arabica</td>\n",
       "      <td>metad plc</td>\n",
       "      <td>Ethiopia</td>\n",
       "      <td>metad plc</td>\n",
       "      <td>NaN</td>\n",
       "      <td>metad plc</td>\n",
       "      <td>2014/2015</td>\n",
       "      <td>metad agricultural developmet plc</td>\n",
       "      <td>1950-2200</td>\n",
       "      <td>guji-hambela</td>\n",
       "      <td>...</td>\n",
       "      <td>Green</td>\n",
       "      <td>2</td>\n",
       "      <td>April 3rd, 2016</td>\n",
       "      <td>METAD Agricultural Development plc</td>\n",
       "      <td>309fcf77415a3661ae83e027f7e5f05dad786e44</td>\n",
       "      <td>19fef5a731de2db57d16da10287413f5f99bc2dd</td>\n",
       "      <td>m</td>\n",
       "      <td>1950.0</td>\n",
       "      <td>2200.0</td>\n",
       "      <td>2075.0</td>\n",
       "    </tr>\n",
       "  </tbody>\n",
       "</table>\n",
       "<p>5 rows × 43 columns</p>\n",
       "</div>"
      ],
      "text/plain": [
       "   species                     owner country_of_origin  \\\n",
       "0  Arabica                 metad plc          Ethiopia   \n",
       "1  Arabica                 metad plc          Ethiopia   \n",
       "2  Arabica  grounds for health admin         Guatemala   \n",
       "3  Arabica       yidnekachew dabessa          Ethiopia   \n",
       "4  Arabica                 metad plc          Ethiopia   \n",
       "\n",
       "                                  farm_name lot_number       mill ico_number  \\\n",
       "0                                 metad plc        NaN  metad plc  2014/2015   \n",
       "1                                 metad plc        NaN  metad plc  2014/2015   \n",
       "2  san marcos barrancas \"san cristobal cuch        NaN        NaN        NaN   \n",
       "3     yidnekachew dabessa coffee plantation        NaN    wolensu        NaN   \n",
       "4                                 metad plc        NaN  metad plc  2014/2015   \n",
       "\n",
       "                                 company       altitude        region  ...  \\\n",
       "0      metad agricultural developmet plc      1950-2200  guji-hambela  ...   \n",
       "1      metad agricultural developmet plc      1950-2200  guji-hambela  ...   \n",
       "2                                    NaN  1600 - 1800 m           NaN  ...   \n",
       "3  yidnekachew debessa coffee plantation      1800-2200        oromia  ...   \n",
       "4      metad agricultural developmet plc      1950-2200  guji-hambela  ...   \n",
       "\n",
       "   color  category_two_defects        expiration  \\\n",
       "0  Green                     0   April 3rd, 2016   \n",
       "1  Green                     1   April 3rd, 2016   \n",
       "2    NaN                     0    May 31st, 2011   \n",
       "3  Green                     2  March 25th, 2016   \n",
       "4  Green                     2   April 3rd, 2016   \n",
       "\n",
       "                   certification_body  \\\n",
       "0  METAD Agricultural Development plc   \n",
       "1  METAD Agricultural Development plc   \n",
       "2        Specialty Coffee Association   \n",
       "3  METAD Agricultural Development plc   \n",
       "4  METAD Agricultural Development plc   \n",
       "\n",
       "                      certification_address  \\\n",
       "0  309fcf77415a3661ae83e027f7e5f05dad786e44   \n",
       "1  309fcf77415a3661ae83e027f7e5f05dad786e44   \n",
       "2  36d0d00a3724338ba7937c52a378d085f2172daa   \n",
       "3  309fcf77415a3661ae83e027f7e5f05dad786e44   \n",
       "4  309fcf77415a3661ae83e027f7e5f05dad786e44   \n",
       "\n",
       "                      certification_contact unit_of_measurement  \\\n",
       "0  19fef5a731de2db57d16da10287413f5f99bc2dd                   m   \n",
       "1  19fef5a731de2db57d16da10287413f5f99bc2dd                   m   \n",
       "2  0878a7d4b9d35ddbf0fe2ce69a2062cceb45a660                   m   \n",
       "3  19fef5a731de2db57d16da10287413f5f99bc2dd                   m   \n",
       "4  19fef5a731de2db57d16da10287413f5f99bc2dd                   m   \n",
       "\n",
       "  altitude_low_meters altitude_high_meters  altitude_mean_meters  \n",
       "0              1950.0               2200.0                2075.0  \n",
       "1              1950.0               2200.0                2075.0  \n",
       "2              1600.0               1800.0                1700.0  \n",
       "3              1800.0               2200.0                2000.0  \n",
       "4              1950.0               2200.0                2075.0  \n",
       "\n",
       "[5 rows x 43 columns]"
      ]
     },
     "execution_count": 5,
     "metadata": {},
     "output_type": "execute_result"
    }
   ],
   "source": [
    "df.head()"
   ]
  },
  {
   "cell_type": "markdown",
   "id": "3469e57f",
   "metadata": {},
   "source": [
    "### Feature separation"
   ]
  },
  {
   "cell_type": "code",
   "execution_count": 6,
   "id": "27e840e9-b00d-45cd-81cd-a9d710b2006d",
   "metadata": {},
   "outputs": [
    {
     "data": {
      "text/plain": [
       "1               18\n",
       "020/17           6\n",
       "019/17           5\n",
       "2                3\n",
       "103              3\n",
       "                ..\n",
       "8885             1\n",
       "5055             1\n",
       "MCCFWXA15/16     1\n",
       "73               1\n",
       "Lavado 3         1\n",
       "Name: lot_number, Length: 227, dtype: int64"
      ]
     },
     "execution_count": 6,
     "metadata": {},
     "output_type": "execute_result"
    }
   ],
   "source": [
    "df[\"lot_number\"].value_counts()"
   ]
  },
  {
   "cell_type": "code",
   "execution_count": 7,
   "id": "501b3483-4961-4589-89dd-d0c4fafb0b02",
   "metadata": {},
   "outputs": [
    {
     "data": {
      "text/plain": [
       "0                    77\n",
       "Taiwan               31\n",
       "2222                 11\n",
       "-                     9\n",
       "Taiwan台灣              7\n",
       "                     ..\n",
       "033/0004              1\n",
       "543                   1\n",
       "11/11711/58           1\n",
       "13-63-214             1\n",
       "14-1118-2014-0087     1\n",
       "Name: ico_number, Length: 847, dtype: int64"
      ]
     },
     "execution_count": 7,
     "metadata": {},
     "output_type": "execute_result"
    }
   ],
   "source": [
    "df[\"ico_number\"].value_counts()"
   ]
  },
  {
   "cell_type": "code",
   "execution_count": 8,
   "id": "8e4abdcc",
   "metadata": {},
   "outputs": [],
   "source": [
    "processing_features = [\"species\", \"owner\", \"country_of_origin\", \"farm_name\",\n",
    "       \"mill\", \"company\", \"altitude\", \"region\", \"producer\",\n",
    "       \"number_of_bags\", \"bag_weight\", \"in_country_partner\",\n",
    "       \"harvest_year\", \"grading_date\", \"owner_1\", \"variety\",\n",
    "       \"processing_method\"]"
   ]
  },
  {
   "cell_type": "code",
   "execution_count": 9,
   "id": "c16035c6",
   "metadata": {},
   "outputs": [],
   "source": [
    "green_features = [\"moisture\", \"category_one_defects\", \"quakers\",\n",
    "        \"color\", \"category_two_defects\"]"
   ]
  },
  {
   "cell_type": "code",
   "execution_count": 10,
   "id": "ab339037",
   "metadata": {},
   "outputs": [],
   "source": [
    "quality_features = [\"aroma\", \"flavor\", \"aftertaste\", \"acidity\",\n",
    "       \"body\", \"balance\", \"uniformity\", \"clean_cup\", \"sweetness\",\n",
    "       \"cupper_points\", \"total_cup_points\"]"
   ]
  },
  {
   "cell_type": "code",
   "execution_count": 11,
   "id": "566bc3ad",
   "metadata": {},
   "outputs": [],
   "source": [
    "cert_info = [\"expiration\", \"certification_body\", \"certification_address\",\n",
    "       \"certification_contact\", \"unit_of_measurement\",\n",
    "       \"altitude_low_meters\", \"altitude_high_meters\",\n",
    "       \"altitude_mean_meters\"]"
   ]
  },
  {
   "cell_type": "code",
   "execution_count": 12,
   "id": "eceba59c-4d44-41db-8318-085de83aac04",
   "metadata": {},
   "outputs": [
    {
     "data": {
      "text/plain": [
       "array(['60 kg', '1', '30 kg', '69 kg', '1 kg', '2 kg,lbs', '6', '3 lbs',\n",
       "       '50 kg', '2 lbs', '100 lbs', '15 kg', '2 kg', '2', '70 kg',\n",
       "       '19200 kg', '5 lbs', '1 kg,lbs', '6 kg', '0 lbs', '46 kg', '40 kg',\n",
       "       '20 kg', '34 kg', '1 lbs', '660 kg', '18975 kg', '12000 kg',\n",
       "       '35 kg', '66 kg', '80 kg', '132 lbs', '5 kg', '25 kg', '59 kg',\n",
       "       '18000 kg', '150 lbs', '9000 kg', '18 kg', '10 kg', '29 kg',\n",
       "       '1218 kg', '4 lbs', '0 kg', '13800 kg', '1500 kg', '24 kg',\n",
       "       '80 lbs', '8 kg', '3 kg', '350 kg', '67 kg', '4 kg', '55 lbs',\n",
       "       '100 kg', '130 lbs'], dtype=object)"
      ]
     },
     "execution_count": 12,
     "metadata": {},
     "output_type": "execute_result"
    }
   ],
   "source": [
    "df[\"bag_weight\"].unique()"
   ]
  },
  {
   "cell_type": "code",
   "execution_count": 13,
   "id": "c3ab94ee-81b2-4d48-aaf5-8cff9638bb5f",
   "metadata": {},
   "outputs": [],
   "source": [
    "df[\"bag_weight\"] = df[\"bag_weight\"].apply(lambda weight_str: convert_bag_weight(weight_str))"
   ]
  },
  {
   "cell_type": "markdown",
   "id": "9ac5d358-4bd6-4bc4-9ada-313b5d670853",
   "metadata": {},
   "source": [
    "🔍 A few of the columns such as ico number or lot number I have removed as they have many missing values and contextually don\"t add much value. I further split the columns in to categories for what they describe. The quality features will be my target variables, for now I will look at the `total_cup_points`. The bag weight column has to be converted from a string to a number (weight in kg)."
   ]
  },
  {
   "cell_type": "markdown",
   "id": "bbcbabd6",
   "metadata": {},
   "source": [
    "### Handling empty/ null values"
   ]
  },
  {
   "cell_type": "code",
   "execution_count": 14,
   "id": "a9c8aa51",
   "metadata": {},
   "outputs": [
    {
     "data": {
      "text/plain": [
       "species                     0\n",
       "owner                       7\n",
       "country_of_origin           1\n",
       "farm_name                 359\n",
       "lot_number               1063\n",
       "mill                      318\n",
       "ico_number                157\n",
       "company                   209\n",
       "altitude                  226\n",
       "region                     59\n",
       "producer                  232\n",
       "number_of_bags              0\n",
       "bag_weight                 27\n",
       "in_country_partner          0\n",
       "harvest_year               47\n",
       "grading_date                0\n",
       "owner_1                     7\n",
       "variety                   226\n",
       "processing_method         170\n",
       "aroma                       0\n",
       "flavor                      0\n",
       "aftertaste                  0\n",
       "acidity                     0\n",
       "body                        0\n",
       "balance                     0\n",
       "uniformity                  0\n",
       "clean_cup                   0\n",
       "sweetness                   0\n",
       "cupper_points               0\n",
       "total_cup_points            0\n",
       "moisture                    0\n",
       "category_one_defects        0\n",
       "quakers                     1\n",
       "color                     218\n",
       "category_two_defects        0\n",
       "expiration                  0\n",
       "certification_body          0\n",
       "certification_address       0\n",
       "certification_contact       0\n",
       "unit_of_measurement         0\n",
       "altitude_low_meters       230\n",
       "altitude_high_meters      230\n",
       "altitude_mean_meters      230\n",
       "dtype: int64"
      ]
     },
     "execution_count": 14,
     "metadata": {},
     "output_type": "execute_result"
    }
   ],
   "source": [
    "df.isnull().sum()"
   ]
  },
  {
   "cell_type": "code",
   "execution_count": 15,
   "id": "971454f5",
   "metadata": {},
   "outputs": [],
   "source": [
    "df = handle_na_values(df)"
   ]
  },
  {
   "cell_type": "code",
   "execution_count": 16,
   "id": "66448d57",
   "metadata": {},
   "outputs": [
    {
     "data": {
      "text/plain": [
       "894"
      ]
     },
     "execution_count": 16,
     "metadata": {},
     "output_type": "execute_result"
    }
   ],
   "source": [
    "len(df)"
   ]
  },
  {
   "cell_type": "markdown",
   "id": "f8a59c40",
   "metadata": {},
   "source": [
    "## Exploration of raw coffee attributes\n",
    "\n",
    "Here we look at both the `processing_features` and `green_features` as these will likely provide the features for our model."
   ]
  },
  {
   "cell_type": "code",
   "execution_count": 17,
   "id": "a059f17d",
   "metadata": {},
   "outputs": [
    {
     "data": {
      "text/plain": [
       "<AxesSubplot:title={'center':'Coffee altitudes'}, xlabel='Altitude', ylabel='Number of samples'>"
      ]
     },
     "execution_count": 17,
     "metadata": {},
     "output_type": "execute_result"
    },
    {
     "data": {
      "image/png": "[encoded data removed]",
      "text/plain": [
       "<Figure size 1080x216 with 1 Axes>"
      ]
     },
     "metadata": {
      "needs_background": "light"
     },
     "output_type": "display_data"
    }
   ],
   "source": [
    "plt.figure(figsize=(15,3))\n",
    "plt.xticks([])\n",
    "plt.xlabel(\"Altitude\")\n",
    "plt.ylabel(\"Number of samples\")\n",
    "plt.title(\"Coffee altitudes\")\n",
    "\n",
    "df[\"altitude_mean_meters\"].hist(bins=100)"
   ]
  },
  {
   "cell_type": "code",
   "execution_count": 18,
   "id": "f613d2a1",
   "metadata": {},
   "outputs": [
    {
     "data": {
      "text/plain": [
       "<AxesSubplot:title={'center':'Coffee altitudes under 1600 (long tail removed)'}, xlabel='Altitude', ylabel='Number of samples'>"
      ]
     },
     "execution_count": 18,
     "metadata": {},
     "output_type": "execute_result"
    },
    {
     "data": {
      "image/png": "[encoded data removed]",
      "text/plain": [
       "<Figure size 1080x216 with 1 Axes>"
      ]
     },
     "metadata": {
      "needs_background": "light"
     },
     "output_type": "display_data"
    }
   ],
   "source": [
    "plt.figure(figsize=(15,3))\n",
    "plt.xticks([])\n",
    "plt.xlabel(\"Altitude\")\n",
    "plt.ylabel(\"Number of samples\")\n",
    "plt.title(\"Coffee altitudes under 1600 (long tail removed)\")\n",
    "\n",
    "df[df[\"altitude_mean_meters\"]< 1600][\"altitude_mean_meters\"].hist(bins=100)"
   ]
  },
  {
   "cell_type": "code",
   "execution_count": 19,
   "id": "ff661074",
   "metadata": {
    "scrolled": true
   },
   "outputs": [
    {
     "data": {
      "text/plain": [
       "Mexico                          198\n",
       "Guatemala                       149\n",
       "Colombia                        109\n",
       "Brazil                           95\n",
       "Taiwan                           63\n",
       "Costa Rica                       44\n",
       "Honduras                         41\n",
       "Tanzania, United Republic Of     35\n",
       "Uganda                           24\n",
       "Kenya                            19\n",
       "China                            16\n",
       "Indonesia                        13\n",
       "El Salvador                      13\n",
       "Nicaragua                        12\n",
       "Malawi                           11\n",
       "Ethiopia                          8\n",
       "Thailand                          7\n",
       "Myanmar                           7\n",
       "Vietnam                           6\n",
       "United States (Puerto Rico)       4\n",
       "Haiti                             4\n",
       "Philippines                       4\n",
       "Panama                            3\n",
       "Laos                              3\n",
       "United States                     2\n",
       "India                             2\n",
       "Rwanda                            1\n",
       "Peru                              1\n",
       "Name: country_of_origin, dtype: int64"
      ]
     },
     "execution_count": 19,
     "metadata": {},
     "output_type": "execute_result"
    }
   ],
   "source": [
    "df[\"country_of_origin\"].value_counts()"
   ]
  },
  {
   "cell_type": "code",
   "execution_count": 20,
   "id": "4553364e",
   "metadata": {},
   "outputs": [
    {
     "data": {
      "text/plain": [
       "<BarContainer object of 5 artists>"
      ]
     },
     "execution_count": 20,
     "metadata": {},
     "output_type": "execute_result"
    },
    {
     "data": {
      "image/png": "[encoded data removed]",
      "text/plain": [
       "<Figure size 432x288 with 1 Axes>"
      ]
     },
     "metadata": {
      "needs_background": "light"
     },
     "output_type": "display_data"
    }
   ],
   "source": [
    "processing_methods = df[\"processing_method\"].value_counts()\n",
    "plt.xticks(rotation=45)\n",
    "plt.bar(processing_methods.index, processing_methods.values)"
   ]
  },
  {
   "cell_type": "code",
   "execution_count": 21,
   "id": "eadd12ee",
   "metadata": {},
   "outputs": [
    {
     "data": {
      "text/plain": [
       "([<matplotlib.patches.Wedge at 0x7f2847bdbd30>,\n",
       "  <matplotlib.patches.Wedge at 0x7f2847bea340>],\n",
       " [Text(-1.0999388748437207, 0.011596189353832071, 'Arabica'),\n",
       "  Text(1.0999388756749673, -0.011596110506928974, 'Robusta')])"
      ]
     },
     "execution_count": 21,
     "metadata": {},
     "output_type": "execute_result"
    },
    {
     "data": {
      "image/png": "[encoded data removed]",
      "text/plain": [
       "<Figure size 432x288 with 1 Axes>"
      ]
     },
     "metadata": {},
     "output_type": "display_data"
    }
   ],
   "source": [
    "species = df[\"species\"].value_counts()\n",
    "plt.pie(species.values, labels=species.index)"
   ]
  },
  {
   "cell_type": "markdown",
   "id": "82f08f5b",
   "metadata": {},
   "source": [
    "🔍 Note that if we don\"t drop the nan values there are slightly more Robusta samples, meaning many of them have missing data."
   ]
  },
  {
   "cell_type": "code",
   "execution_count": 22,
   "id": "12b7431a",
   "metadata": {},
   "outputs": [
    {
     "data": {
      "text/plain": [
       "<BarContainer object of 25 artists>"
      ]
     },
     "execution_count": 22,
     "metadata": {},
     "output_type": "execute_result"
    },
    {
     "data": {
      "image/png": "[encoded data removed]",
      "text/plain": [
       "<Figure size 1080x360 with 1 Axes>"
      ]
     },
     "metadata": {
      "needs_background": "light"
     },
     "output_type": "display_data"
    }
   ],
   "source": [
    "variety = df[\"variety\"].value_counts()\n",
    "\n",
    "plt.figure(figsize=(15,5))\n",
    "plt.xticks(rotation=45)\n",
    "plt.bar(variety.index, variety.values)"
   ]
  },
  {
   "cell_type": "markdown",
   "id": "0067b166",
   "metadata": {},
   "source": [
    "🔍 Most samples are Arabic with very few Robusta samples. There is a long tail distribution of Varieties which makes sense as there are the more popular varieties planted and some more speciality or less common. Most samples have a mean altitude under 1600 meters and are washed processed coffee. A large amount of these samples are from south and central America with Mexico, Guatemala, Colombia, and Brazil being the origins with the most samples. "
   ]
  },
  {
   "cell_type": "markdown",
   "id": "a945cf48",
   "metadata": {},
   "source": [
    "## Exploration of coffee quality attributes ( both green and roasted)\n",
    "\n",
    "The quality will be what I want to predict, to begin with I will focus on the `total_cup_points` and see if I can predict this from the `green_features` and `processing_features`."
   ]
  },
  {
   "cell_type": "code",
   "execution_count": 23,
   "id": "c66d4cec",
   "metadata": {},
   "outputs": [
    {
     "data": {
      "text/html": [
       "<div>\n",
       "<style scoped>\n",
       "    .dataframe tbody tr th:only-of-type {\n",
       "        vertical-align: middle;\n",
       "    }\n",
       "\n",
       "    .dataframe tbody tr th {\n",
       "        vertical-align: top;\n",
       "    }\n",
       "\n",
       "    .dataframe thead th {\n",
       "        text-align: right;\n",
       "    }\n",
       "</style>\n",
       "<table border=\"1\" class=\"dataframe\">\n",
       "  <thead>\n",
       "    <tr style=\"text-align: right;\">\n",
       "      <th></th>\n",
       "      <th>count</th>\n",
       "      <th>mean</th>\n",
       "      <th>std</th>\n",
       "      <th>min</th>\n",
       "      <th>25%</th>\n",
       "      <th>50%</th>\n",
       "      <th>75%</th>\n",
       "      <th>max</th>\n",
       "    </tr>\n",
       "  </thead>\n",
       "  <tbody>\n",
       "    <tr>\n",
       "      <th>aroma</th>\n",
       "      <td>894.0</td>\n",
       "      <td>7.558881</td>\n",
       "      <td>0.294818</td>\n",
       "      <td>5.08</td>\n",
       "      <td>7.42</td>\n",
       "      <td>7.58</td>\n",
       "      <td>7.75</td>\n",
       "      <td>8.75</td>\n",
       "    </tr>\n",
       "    <tr>\n",
       "      <th>flavor</th>\n",
       "      <td>894.0</td>\n",
       "      <td>7.504116</td>\n",
       "      <td>0.310404</td>\n",
       "      <td>6.17</td>\n",
       "      <td>7.33</td>\n",
       "      <td>7.50</td>\n",
       "      <td>7.67</td>\n",
       "      <td>8.67</td>\n",
       "    </tr>\n",
       "    <tr>\n",
       "      <th>aftertaste</th>\n",
       "      <td>894.0</td>\n",
       "      <td>7.374407</td>\n",
       "      <td>0.323754</td>\n",
       "      <td>6.17</td>\n",
       "      <td>7.17</td>\n",
       "      <td>7.42</td>\n",
       "      <td>7.58</td>\n",
       "      <td>8.50</td>\n",
       "    </tr>\n",
       "    <tr>\n",
       "      <th>acidity</th>\n",
       "      <td>894.0</td>\n",
       "      <td>7.515324</td>\n",
       "      <td>0.300097</td>\n",
       "      <td>5.25</td>\n",
       "      <td>7.33</td>\n",
       "      <td>7.50</td>\n",
       "      <td>7.67</td>\n",
       "      <td>8.58</td>\n",
       "    </tr>\n",
       "    <tr>\n",
       "      <th>body</th>\n",
       "      <td>894.0</td>\n",
       "      <td>7.493535</td>\n",
       "      <td>0.264954</td>\n",
       "      <td>6.33</td>\n",
       "      <td>7.33</td>\n",
       "      <td>7.50</td>\n",
       "      <td>7.67</td>\n",
       "      <td>8.42</td>\n",
       "    </tr>\n",
       "    <tr>\n",
       "      <th>balance</th>\n",
       "      <td>894.0</td>\n",
       "      <td>7.488020</td>\n",
       "      <td>0.334974</td>\n",
       "      <td>6.08</td>\n",
       "      <td>7.33</td>\n",
       "      <td>7.50</td>\n",
       "      <td>7.67</td>\n",
       "      <td>8.58</td>\n",
       "    </tr>\n",
       "    <tr>\n",
       "      <th>uniformity</th>\n",
       "      <td>894.0</td>\n",
       "      <td>9.870817</td>\n",
       "      <td>0.442629</td>\n",
       "      <td>6.00</td>\n",
       "      <td>10.00</td>\n",
       "      <td>10.00</td>\n",
       "      <td>10.00</td>\n",
       "      <td>10.00</td>\n",
       "    </tr>\n",
       "    <tr>\n",
       "      <th>clean_cup</th>\n",
       "      <td>894.0</td>\n",
       "      <td>9.848535</td>\n",
       "      <td>0.770526</td>\n",
       "      <td>0.00</td>\n",
       "      <td>10.00</td>\n",
       "      <td>10.00</td>\n",
       "      <td>10.00</td>\n",
       "      <td>10.00</td>\n",
       "    </tr>\n",
       "    <tr>\n",
       "      <th>sweetness</th>\n",
       "      <td>894.0</td>\n",
       "      <td>9.930459</td>\n",
       "      <td>0.438240</td>\n",
       "      <td>1.33</td>\n",
       "      <td>10.00</td>\n",
       "      <td>10.00</td>\n",
       "      <td>10.00</td>\n",
       "      <td>10.00</td>\n",
       "    </tr>\n",
       "    <tr>\n",
       "      <th>cupper_points</th>\n",
       "      <td>894.0</td>\n",
       "      <td>7.459441</td>\n",
       "      <td>0.389179</td>\n",
       "      <td>5.17</td>\n",
       "      <td>7.25</td>\n",
       "      <td>7.50</td>\n",
       "      <td>7.67</td>\n",
       "      <td>8.58</td>\n",
       "    </tr>\n",
       "    <tr>\n",
       "      <th>total_cup_points</th>\n",
       "      <td>894.0</td>\n",
       "      <td>82.043613</td>\n",
       "      <td>2.608931</td>\n",
       "      <td>59.83</td>\n",
       "      <td>81.17</td>\n",
       "      <td>82.42</td>\n",
       "      <td>83.50</td>\n",
       "      <td>89.92</td>\n",
       "    </tr>\n",
       "  </tbody>\n",
       "</table>\n",
       "</div>"
      ],
      "text/plain": [
       "                  count       mean       std    min    25%    50%    75%  \\\n",
       "aroma             894.0   7.558881  0.294818   5.08   7.42   7.58   7.75   \n",
       "flavor            894.0   7.504116  0.310404   6.17   7.33   7.50   7.67   \n",
       "aftertaste        894.0   7.374407  0.323754   6.17   7.17   7.42   7.58   \n",
       "acidity           894.0   7.515324  0.300097   5.25   7.33   7.50   7.67   \n",
       "body              894.0   7.493535  0.264954   6.33   7.33   7.50   7.67   \n",
       "balance           894.0   7.488020  0.334974   6.08   7.33   7.50   7.67   \n",
       "uniformity        894.0   9.870817  0.442629   6.00  10.00  10.00  10.00   \n",
       "clean_cup         894.0   9.848535  0.770526   0.00  10.00  10.00  10.00   \n",
       "sweetness         894.0   9.930459  0.438240   1.33  10.00  10.00  10.00   \n",
       "cupper_points     894.0   7.459441  0.389179   5.17   7.25   7.50   7.67   \n",
       "total_cup_points  894.0  82.043613  2.608931  59.83  81.17  82.42  83.50   \n",
       "\n",
       "                    max  \n",
       "aroma              8.75  \n",
       "flavor             8.67  \n",
       "aftertaste         8.50  \n",
       "acidity            8.58  \n",
       "body               8.42  \n",
       "balance            8.58  \n",
       "uniformity        10.00  \n",
       "clean_cup         10.00  \n",
       "sweetness         10.00  \n",
       "cupper_points      8.58  \n",
       "total_cup_points  89.92  "
      ]
     },
     "execution_count": 23,
     "metadata": {},
     "output_type": "execute_result"
    }
   ],
   "source": [
    "df[quality_features].describe().T"
   ]
  },
  {
   "cell_type": "code",
   "execution_count": 24,
   "id": "815cdac7-4c5a-40e7-82f7-ccee04b5b405",
   "metadata": {},
   "outputs": [
    {
     "data": {
      "text/plain": [
       "<AxesSubplot:>"
      ]
     },
     "execution_count": 24,
     "metadata": {},
     "output_type": "execute_result"
    },
    {
     "data": {
      "image/png": "[encoded data removed]",
      "text/plain": [
       "<Figure size 432x288 with 1 Axes>"
      ]
     },
     "metadata": {
      "needs_background": "light"
     },
     "output_type": "display_data"
    }
   ],
   "source": [
    "df[\"total_cup_points\"].hist(bins=100)"
   ]
  },
  {
   "cell_type": "code",
   "execution_count": 25,
   "id": "a6c4ca04-bc81-483e-81f1-a83186905163",
   "metadata": {},
   "outputs": [
    {
     "data": {
      "image/png": "[encoded data removed]",
      "text/plain": [
       "<Figure size 432x288 with 1 Axes>"
      ]
     },
     "metadata": {},
     "output_type": "display_data"
    }
   ],
   "source": [
    "above_85 = len(df[df[\"total_cup_points\"] > 85])\n",
    "below_85 = len(df[df[\"total_cup_points\"] <= 85])\n",
    "\n",
    "colors = sns.color_palette(\"colorblind\")[0:5]\n",
    "\n",
    "plt.pie([above_85, below_85], labels=[\"above 85\", \"85 and below\"], colors=colors, startangle = 90, autopct=\"%.0f%%\")\n",
    "plt.show()"
   ]
  },
  {
   "cell_type": "code",
   "execution_count": 26,
   "id": "86a5ea40",
   "metadata": {},
   "outputs": [
    {
     "data": {
      "text/plain": [
       "<AxesSubplot:>"
      ]
     },
     "execution_count": 26,
     "metadata": {},
     "output_type": "execute_result"
    },
    {
     "data": {
      "image/png": "[encoded data removed]",
      "text/plain": [
       "<Figure size 432x288 with 1 Axes>"
      ]
     },
     "metadata": {
      "needs_background": "light"
     },
     "output_type": "display_data"
    }
   ],
   "source": [
    "df[df[\"total_cup_points\"] > 85][\"total_cup_points\"].round().value_counts().plot(kind=\"bar\")"
   ]
  },
  {
   "cell_type": "code",
   "execution_count": 27,
   "id": "f7cb9efc",
   "metadata": {},
   "outputs": [
    {
     "name": "stdout",
     "output_type": "stream",
     "text": [
      "4.81% of samples recieved a total cupping score over 85\n"
     ]
    }
   ],
   "source": [
    "print(f\"{(100 / len(df)) * len(df[df['total_cup_points'] > 85]):.2f}% of samples recieved a total cupping score over 85\")"
   ]
  },
  {
   "cell_type": "markdown",
   "id": "68535ab3",
   "metadata": {},
   "source": [
    "🔍 A high total cupping score has an impact on how much a coffee can be sold for as it is an indication of overall quality. The scores are given by tasting the coffee samples in a process called cupping where samples are evaluated on sweetness, aroma, cleanliness, balance and other qualities by coffee professionals. Attributes such as the moisture value, the number of quakers or defects are assessed from the green raw product and along with processing techniques, varietal, and the altitude the tree is grown at indicate the quality of a coffee sample."
   ]
  },
  {
   "cell_type": "markdown",
   "id": "e77ae7f9",
   "metadata": {},
   "source": [
    "## Splitting the data"
   ]
  },
  {
   "cell_type": "code",
   "execution_count": 28,
   "id": "898ce727",
   "metadata": {},
   "outputs": [],
   "source": [
    "features = green_features + processing_features"
   ]
  },
  {
   "cell_type": "code",
   "execution_count": 29,
   "id": "47ac4761",
   "metadata": {},
   "outputs": [
    {
     "name": "stdout",
     "output_type": "stream",
     "text": [
      "length of training set: 536, validation set: 179, test set: 179\n"
     ]
    }
   ],
   "source": [
    "df_train, df_val, df_test, y_train, y_val, y_test, df_full_train = split_data(df, features)"
   ]
  },
  {
   "cell_type": "markdown",
   "id": "933c2a86",
   "metadata": {},
   "source": [
    "## Feature correlation"
   ]
  },
  {
   "cell_type": "code",
   "execution_count": 30,
   "id": "afcdfe4b-a23a-4f5c-a903-2c04d19814a7",
   "metadata": {},
   "outputs": [
    {
     "data": {
      "text/plain": [
       "moisture                float64\n",
       "category_one_defects      int64\n",
       "quakers                 float64\n",
       "color                    object\n",
       "category_two_defects      int64\n",
       "species                  object\n",
       "owner                    object\n",
       "country_of_origin        object\n",
       "farm_name                object\n",
       "mill                     object\n",
       "company                  object\n",
       "altitude                 object\n",
       "region                   object\n",
       "producer                 object\n",
       "number_of_bags            int64\n",
       "bag_weight               object\n",
       "in_country_partner       object\n",
       "harvest_year             object\n",
       "grading_date             object\n",
       "owner_1                  object\n",
       "variety                  object\n",
       "processing_method        object\n",
       "dtype: object"
      ]
     },
     "execution_count": 30,
     "metadata": {},
     "output_type": "execute_result"
    }
   ],
   "source": [
    "df[features].dtypes"
   ]
  },
  {
   "cell_type": "code",
   "execution_count": 31,
   "id": "569b1c4f",
   "metadata": {},
   "outputs": [],
   "source": [
    "numerical_features = [\n",
    "    \"moisture\",\n",
    "    \"category_one_defects\",\n",
    "    \"quakers\",\n",
    "    \"category_two_defects\",\n",
    "    \"altitude\",\n",
    "    \"number_of_bags\",\n",
    "    \"bag_weight\"\n",
    "]\n",
    "\n",
    "categorical_features = [\n",
    "    \"color\",\n",
    "    \"species\",\n",
    "    \"owner\",\n",
    "    \"country_of_origin\",\n",
    "    \"farm_name\",\n",
    "    \"mill\",\n",
    "    \"company\",\n",
    "    \"region\",\n",
    "    \"producer\",\n",
    "    \"in_country_partner\",\n",
    "    \"harvest_year\",\n",
    "    \"owner_1\",\n",
    "    \"variety\",\n",
    "    \"processing_method\"\n",
    "]"
   ]
  },
  {
   "cell_type": "code",
   "execution_count": 32,
   "id": "d0f21f66",
   "metadata": {},
   "outputs": [],
   "source": [
    "def mutual_info_total_cup_score(series):\n",
    "    return mutual_info_score(series, df_full_train[\"total_cup_points\"])"
   ]
  },
  {
   "cell_type": "code",
   "execution_count": 33,
   "id": "ac0d3d64",
   "metadata": {},
   "outputs": [
    {
     "name": "stderr",
     "output_type": "stream",
     "text": [
      "/opt/conda/lib/python3.9/site-packages/sklearn/metrics/cluster/_supervised.py:65: UserWarning: Clustering metrics expects discrete values but received multiclass values for label, and continuous values for target\n",
      "  warnings.warn(msg, UserWarning)\n",
      "/opt/conda/lib/python3.9/site-packages/sklearn/metrics/cluster/_supervised.py:65: UserWarning: Clustering metrics expects discrete values but received binary values for label, and continuous values for target\n",
      "  warnings.warn(msg, UserWarning)\n",
      "/opt/conda/lib/python3.9/site-packages/sklearn/metrics/cluster/_supervised.py:65: UserWarning: Clustering metrics expects discrete values but received multiclass values for label, and continuous values for target\n",
      "  warnings.warn(msg, UserWarning)\n",
      "/opt/conda/lib/python3.9/site-packages/sklearn/metrics/cluster/_supervised.py:65: UserWarning: Clustering metrics expects discrete values but received multiclass values for label, and continuous values for target\n",
      "  warnings.warn(msg, UserWarning)\n",
      "/opt/conda/lib/python3.9/site-packages/sklearn/metrics/cluster/_supervised.py:65: UserWarning: Clustering metrics expects discrete values but received multiclass values for label, and continuous values for target\n",
      "  warnings.warn(msg, UserWarning)\n",
      "/opt/conda/lib/python3.9/site-packages/sklearn/metrics/cluster/_supervised.py:65: UserWarning: Clustering metrics expects discrete values but received multiclass values for label, and continuous values for target\n",
      "  warnings.warn(msg, UserWarning)\n",
      "/opt/conda/lib/python3.9/site-packages/sklearn/metrics/cluster/_supervised.py:65: UserWarning: Clustering metrics expects discrete values but received multiclass values for label, and continuous values for target\n",
      "  warnings.warn(msg, UserWarning)\n",
      "/opt/conda/lib/python3.9/site-packages/sklearn/metrics/cluster/_supervised.py:65: UserWarning: Clustering metrics expects discrete values but received multiclass values for label, and continuous values for target\n",
      "  warnings.warn(msg, UserWarning)\n",
      "/opt/conda/lib/python3.9/site-packages/sklearn/metrics/cluster/_supervised.py:65: UserWarning: Clustering metrics expects discrete values but received multiclass values for label, and continuous values for target\n",
      "  warnings.warn(msg, UserWarning)\n",
      "/opt/conda/lib/python3.9/site-packages/sklearn/metrics/cluster/_supervised.py:65: UserWarning: Clustering metrics expects discrete values but received multiclass values for label, and continuous values for target\n",
      "  warnings.warn(msg, UserWarning)\n",
      "/opt/conda/lib/python3.9/site-packages/sklearn/metrics/cluster/_supervised.py:65: UserWarning: Clustering metrics expects discrete values but received multiclass values for label, and continuous values for target\n",
      "  warnings.warn(msg, UserWarning)\n",
      "/opt/conda/lib/python3.9/site-packages/sklearn/metrics/cluster/_supervised.py:65: UserWarning: Clustering metrics expects discrete values but received multiclass values for label, and continuous values for target\n",
      "  warnings.warn(msg, UserWarning)\n",
      "/opt/conda/lib/python3.9/site-packages/sklearn/metrics/cluster/_supervised.py:65: UserWarning: Clustering metrics expects discrete values but received multiclass values for label, and continuous values for target\n",
      "  warnings.warn(msg, UserWarning)\n",
      "/opt/conda/lib/python3.9/site-packages/sklearn/metrics/cluster/_supervised.py:65: UserWarning: Clustering metrics expects discrete values but received multiclass values for label, and continuous values for target\n",
      "  warnings.warn(msg, UserWarning)\n"
     ]
    },
    {
     "data": {
      "text/plain": [
       "producer              3.561634\n",
       "farm_name             3.153362\n",
       "mill                  2.985405\n",
       "region                2.740557\n",
       "owner_1               2.489754\n",
       "owner                 2.481078\n",
       "company               2.479748\n",
       "country_of_origin     1.016673\n",
       "in_country_partner    0.988320\n",
       "variety               0.765438\n",
       "harvest_year          0.616748\n",
       "color                 0.235633\n",
       "processing_method     0.230606\n",
       "species               0.015306\n",
       "dtype: float64"
      ]
     },
     "execution_count": 33,
     "metadata": {},
     "output_type": "execute_result"
    }
   ],
   "source": [
    "mi = df_full_train[categorical_features].apply(mutual_info_total_cup_score)\n",
    "mi.sort_values(ascending=False)"
   ]
  },
  {
   "cell_type": "code",
   "execution_count": 34,
   "id": "0a7f800f",
   "metadata": {},
   "outputs": [
    {
     "data": {
      "text/html": [
       "<div>\n",
       "<style scoped>\n",
       "    .dataframe tbody tr th:only-of-type {\n",
       "        vertical-align: middle;\n",
       "    }\n",
       "\n",
       "    .dataframe tbody tr th {\n",
       "        vertical-align: top;\n",
       "    }\n",
       "\n",
       "    .dataframe thead th {\n",
       "        text-align: right;\n",
       "    }\n",
       "</style>\n",
       "<table border=\"1\" class=\"dataframe\">\n",
       "  <thead>\n",
       "    <tr style=\"text-align: right;\">\n",
       "      <th></th>\n",
       "      <th>count</th>\n",
       "      <th>mean</th>\n",
       "      <th>std</th>\n",
       "      <th>min</th>\n",
       "      <th>25%</th>\n",
       "      <th>50%</th>\n",
       "      <th>75%</th>\n",
       "      <th>max</th>\n",
       "    </tr>\n",
       "  </thead>\n",
       "  <tbody>\n",
       "    <tr>\n",
       "      <th>moisture</th>\n",
       "      <td>894.0</td>\n",
       "      <td>0.097371</td>\n",
       "      <td>0.041413</td>\n",
       "      <td>0.0</td>\n",
       "      <td>0.1</td>\n",
       "      <td>0.11</td>\n",
       "      <td>0.12</td>\n",
       "      <td>0.17</td>\n",
       "    </tr>\n",
       "    <tr>\n",
       "      <th>category_one_defects</th>\n",
       "      <td>894.0</td>\n",
       "      <td>0.426174</td>\n",
       "      <td>2.045022</td>\n",
       "      <td>0.0</td>\n",
       "      <td>0.0</td>\n",
       "      <td>0.00</td>\n",
       "      <td>0.00</td>\n",
       "      <td>31.00</td>\n",
       "    </tr>\n",
       "    <tr>\n",
       "      <th>quakers</th>\n",
       "      <td>894.0</td>\n",
       "      <td>0.152125</td>\n",
       "      <td>0.755207</td>\n",
       "      <td>0.0</td>\n",
       "      <td>0.0</td>\n",
       "      <td>0.00</td>\n",
       "      <td>0.00</td>\n",
       "      <td>11.00</td>\n",
       "    </tr>\n",
       "    <tr>\n",
       "      <th>category_two_defects</th>\n",
       "      <td>894.0</td>\n",
       "      <td>3.822148</td>\n",
       "      <td>5.610612</td>\n",
       "      <td>0.0</td>\n",
       "      <td>0.0</td>\n",
       "      <td>2.00</td>\n",
       "      <td>5.00</td>\n",
       "      <td>47.00</td>\n",
       "    </tr>\n",
       "    <tr>\n",
       "      <th>number_of_bags</th>\n",
       "      <td>894.0</td>\n",
       "      <td>157.865772</td>\n",
       "      <td>126.458080</td>\n",
       "      <td>1.0</td>\n",
       "      <td>20.0</td>\n",
       "      <td>200.00</td>\n",
       "      <td>275.00</td>\n",
       "      <td>600.00</td>\n",
       "    </tr>\n",
       "  </tbody>\n",
       "</table>\n",
       "</div>"
      ],
      "text/plain": [
       "                      count        mean         std  min   25%     50%  \\\n",
       "moisture              894.0    0.097371    0.041413  0.0   0.1    0.11   \n",
       "category_one_defects  894.0    0.426174    2.045022  0.0   0.0    0.00   \n",
       "quakers               894.0    0.152125    0.755207  0.0   0.0    0.00   \n",
       "category_two_defects  894.0    3.822148    5.610612  0.0   0.0    2.00   \n",
       "number_of_bags        894.0  157.865772  126.458080  1.0  20.0  200.00   \n",
       "\n",
       "                         75%     max  \n",
       "moisture                0.12    0.17  \n",
       "category_one_defects    0.00   31.00  \n",
       "quakers                 0.00   11.00  \n",
       "category_two_defects    5.00   47.00  \n",
       "number_of_bags        275.00  600.00  "
      ]
     },
     "execution_count": 34,
     "metadata": {},
     "output_type": "execute_result"
    }
   ],
   "source": [
    "features = green_features + processing_features\n",
    "df[features].describe().T"
   ]
  },
  {
   "cell_type": "code",
   "execution_count": 35,
   "id": "dc40d075",
   "metadata": {},
   "outputs": [
    {
     "data": {
      "text/plain": [
       "0.0     834\n",
       "1.0      26\n",
       "2.0      21\n",
       "4.0       3\n",
       "3.0       3\n",
       "5.0       3\n",
       "11.0      1\n",
       "7.0       1\n",
       "6.0       1\n",
       "8.0       1\n",
       "Name: quakers, dtype: int64"
      ]
     },
     "execution_count": 35,
     "metadata": {},
     "output_type": "execute_result"
    }
   ],
   "source": [
    "df[\"quakers\"].value_counts()"
   ]
  },
  {
   "cell_type": "code",
   "execution_count": 36,
   "id": "cb4001ea",
   "metadata": {},
   "outputs": [
    {
     "data": {
      "text/plain": [
       "<AxesSubplot:>"
      ]
     },
     "execution_count": 36,
     "metadata": {},
     "output_type": "execute_result"
    },
    {
     "data": {
      "image/png": "[encoded data removed]",
      "text/plain": [
       "<Figure size 432x288 with 1 Axes>"
      ]
     },
     "metadata": {
      "needs_background": "light"
     },
     "output_type": "display_data"
    }
   ],
   "source": [
    "df[\"moisture\"].hist()"
   ]
  },
  {
   "cell_type": "code",
   "execution_count": 37,
   "id": "1ddf03ef",
   "metadata": {},
   "outputs": [
    {
     "data": {
      "text/plain": [
       "moisture               -0.151336\n",
       "category_one_defects   -0.127726\n",
       "quakers                 0.021064\n",
       "category_two_defects   -0.320109\n",
       "number_of_bags          0.038112\n",
       "dtype: float64"
      ]
     },
     "execution_count": 37,
     "metadata": {},
     "output_type": "execute_result"
    }
   ],
   "source": [
    "df_full_train[numerical_features].corrwith(df_full_train[\"total_cup_points\"])"
   ]
  },
  {
   "cell_type": "code",
   "execution_count": 38,
   "id": "b9f42963",
   "metadata": {},
   "outputs": [
    {
     "data": {
      "text/plain": [
       "<AxesSubplot:xlabel='category_two_defects', ylabel='total_cup_points'>"
      ]
     },
     "execution_count": 38,
     "metadata": {},
     "output_type": "execute_result"
    },
    {
     "data": {
      "image/png": "[encoded data removed]",
      "text/plain": [
       "<Figure size 432x288 with 1 Axes>"
      ]
     },
     "metadata": {
      "needs_background": "light"
     },
     "output_type": "display_data"
    }
   ],
   "source": [
    "sns.lineplot(x=df_full_train[\"category_two_defects\"], y=df_full_train[\"total_cup_points\"])"
   ]
  },
  {
   "cell_type": "markdown",
   "id": "15fa2650",
   "metadata": {},
   "source": [
    "🔍 As the number of defects increases the total number of cupping points goes down, though we do see a spike in the later half of this graph I would suggest this is a error / outlier in the data."
   ]
  },
  {
   "cell_type": "code",
   "execution_count": 39,
   "id": "838b2832",
   "metadata": {},
   "outputs": [
    {
     "data": {
      "text/plain": [
       "<AxesSubplot:>"
      ]
     },
     "execution_count": 39,
     "metadata": {},
     "output_type": "execute_result"
    },
    {
     "data": {
      "image/png": "[encoded data removed]",
      "text/plain": [
       "<Figure size 792x1080 with 2 Axes>"
      ]
     },
     "metadata": {
      "needs_background": "light"
     },
     "output_type": "display_data"
    }
   ],
   "source": [
    "correlations = df_full_train[features + [\"total_cup_points\"]].corr()\n",
    "plt.figure(figsize=(11, 15))\n",
    "sns.heatmap(correlations)"
   ]
  },
  {
   "cell_type": "markdown",
   "id": "5164f6f0",
   "metadata": {},
   "source": [
    "🔍 The features that seem to correlate the most with the total cup score are the number of quakers (unripe coffee) which makes sense as this is also considered a defect. Interesting the number of bags appears to be closely correlated to the total cup points but this seems unlikely to be a direct correlation and perhaps indirectly the case as more bags may be available for higher quality coffees. \n",
    "\n",
    "Category one and two defects have a correlation which makes sense that a coffee containing defects of one sort may also have the other. Another interesting observation is the correlation between moisture and quakers and category one defects, this seems quite logical as unripe and defected beans could be expected to have a different moisture level."
   ]
  }
 ],
 "metadata": {
  "kernelspec": {
   "display_name": "Python 3 (ipykernel)",
   "language": "python",
   "name": "python3"
  },
  "language_info": {
   "codemirror_mode": {
    "name": "ipython",
    "version": 3
   },
   "file_extension": ".py",
   "mimetype": "text/x-python",
   "name": "python",
   "nbconvert_exporter": "python",
   "pygments_lexer": "ipython3",
   "version": "3.9.7"
  }
 },
 "nbformat": 4,
 "nbformat_minor": 5
}
